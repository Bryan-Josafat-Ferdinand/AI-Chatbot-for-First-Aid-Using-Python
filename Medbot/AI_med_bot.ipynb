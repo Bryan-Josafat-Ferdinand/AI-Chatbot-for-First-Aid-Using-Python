{
  "cells": [
    {
      "cell_type": "code",
      "execution_count": null,
      "metadata": {
        "id": "whlB4Ut1h0z3"
      },
      "outputs": [],
      "source": [
        "import random\n",
        "\n",
        "def get_response(prompt):\n",
        "  if \"tersedak\" in prompt:\n",
        "    return \"Untuk mengatasi orang yang tersedak, pertama-tama beri tepukan dada dengan telapak tangan atau jari telunjuk. \\nJika tidak mempan, coba lakukan Heimlich Maneuver dengan menempatkan tangan Anda di antara diafragma dan tulang rusuk, \\nlalu tekan secara perlahan-lahan tapi kuat. \\nJika masih tidak mempan, segera hubungi tim medis.\\n\"\n",
        "  elif \"luka\" in prompt:\n",
        "    return \"Untuk mengatasi luka, pertama-tama bersihkan luka tersebut dengan air dan sabun. \\nJika luka tersebut terlalu dalam atau terinfeksi, segera hubungi tim medis. \\nJika tidak, lapisi luka dengan perban dan segera periksa ke dokter.\\n\"\n",
        "  elif \"pingsan\" in prompt:\n",
        "    return \"Untuk mengatasi orang yang pingsan, pertama-tama pastikan dia terletak di tempat yang nyaman dan selamat. \\nKemudian coba periksa nadi dan napasnya. \\nJika tidak ada nadi atau napas, lakukan CPR sesuai dengan panduan yang tersedia. \\nJika ada nadi dan napas, segera hubungi tim medis.\\n\"\n",
        "  elif \"luka bakar\" in prompt:\n",
        "    return \"Untuk mengatasi luka bakar, pertama-tama jauhi atau matikan sumber panas. \\nKemudian Dinginkan luka bakar dengan air mengalir selama 20 menit. \\n gunakan obat anti nyeri apabila dibutuhkan. \\n balut luka bakar dengan balutan yang bersih dan steril, apabila luka bakar cukup parah segera hubungi tim medis\\n\"\n",
        "  elif \"sesak napas\" in prompt:\n",
        "    return \"segera hubungi tim medis./nPeriksa jalan napas, pernapasannya, serta nadi dari orang tersebut. Jika dirasa perlu, cobalah melakukan CPR.\\nLonggarkan pakaian yang digunakan, terutama yang ketat.\\nJika diketahui dirinya mengonsumsi obat resep secara rutin, bantu ia mengonsumsinya.\\nTerus pantau pernapasan dan denyut nadinya hingga bantuan medis tiba.\\nJangan tinggalkan orang tersebut meski terlihat sudah membaik.\"\n",
        "  elif \"kecelakaan\" in prompt:\n",
        "    return \"Memanggil bantuan medis segera\\nMemberikan pertolongan pertama pada korban yang terluka, seperti menghentikan pendarahan dan menstabilkan kondisi fisik\\nMemberikan bantuan pada korban yang mengalami shock\\nMemastikan korban terlindungi dari bahaya lebih lanjut\\nMencatat informasi penting seperti lokasi kejadian, jenis kecelakaan, dan jumlah korban untuk melaporkannya kepada pihak yang berwenang.\"\n",
        "  elif \"demam\" in prompt:\n",
        "    return \"Mengukur suhu dan perhatikan gejala demam yang terjadi. Jika suhu lebih dari 38°Celsius kamu mengalami demam tinggi.\\nPastikan untuk tetap di tempat tidur untuk beristirahat dan hindari aktivitas berat. \\nJaga tubuh tetap terhidrasi, dengan cara minum air putih, mengonsumsi sup, atau minum jus. Hal ini bertujuan untuk mengisi kembali cairan yang terbuang melalui keringat. Selain itu, menjaga tubuh tetap terhidrasi diketahui dapat menetralkan suhu tubuh. \\nMengenakan pakaian longgar dan gunakan selimut yang tidak terlalu tebal. Namun, jika kamu merasa kedinginan atau menggigil tidak ada salahnya untuk menggunakan selimut tebal. \\nMandi air hangat atau menggunakan kompres hangat agar tubuh terasa lebih nyaman. Hindari mandi dengan air dingin ketika sedang demam tinggi, karena hal ini dapat membuat tubuh semakin menggigil. \"\n",
        "  elif \"keseleo\" in prompt:\n",
        "    return \"Memberikan imobilisasi pada area yang cedera dengan menggunakan benda seperti kain kasa atau tongkat untuk mencegah gerakan yang tidak diinginkan\\nMengurangi peradangan dengan menggunakan kompres dingin pada area cedera\\nMemberikan posisi yang nyaman untuk korban, misalnya dengan mengangkat kaki yang cedera untuk mengurangi pembengkakan\\nMemberikan obat pereda nyeri sesuai anjuran dokter\\nJangan memindahkan korban jika Anda merasa ada kemungkinan terdapat cedera tulang belakang.\"\n",
        "  elif \"patah tulang\" in prompt:\n",
        "    return \"Memberikan imobilisasi pada area yang cedera dengan menggunakan kain kasa atau tongkat. Hal ini akan mencegah gerakan yang tidak diinginkan dan membantu mengurangi rasa sakit.Menekan area yang cedera untuk mencegah pendarahan jika diperlukan.\\nMemberikan posisi yang nyaman untuk korban. Hal ini dapat dilakukan dengan mengangkat kaki yang cedera untuk mengurangi pembengkakan.\\nMemberikan obat pereda nyeri sesuai anjuran dokter.\\nJangan memindahkan korban jika Anda merasa ada kemungkinan terdapat cedera tulang belakang.\\nSegera periksakan ke dokter untuk mendapatkan diagnosis yang tepat dan pengobatan yang sesuai.\"\n",
        "  elif \"pendarahan\" in prompt:\n",
        "    return \"Menekan area yang berdarah dengan kasa steril atau kain bersih. Tekan dahulu dengan kuat lalu lepaskan perlahan-lahan.\\nMeninggikan area yang cedera jika diperlukan. Ini akan membantu mengurangi pendarahan dengan menurunkan tekanan pada pembuluh darah.\\nMenjaga korban tetap tenang dan rileks.\\nMenutup luka dengan kasa steril atau perban untuk mencegah infeksi.\\nJangan mencoba untuk menghilangkan benda yang terbenam dalam luka, karena dapat menyebabkan pendarahan yang lebih parah.\\nSegera periksakan ke dokter atau ke rumah sakit untuk mendapatkan perawatan yang lebih lanjut.\"\n",
        "  elif \"serangan jantung\" in prompt:\n",
        "    return \"Menelepon nomor darurat (911) segera. Petugas medis akan datang dan memberikan bantuan yang diperlukan.\\nMemberikan CPR (Cardiopulmonary Resuscitation) jika korban tidak sadarkan diri atau tidak dapat bernapas dengan baik. CPR dapat membantu menyediakan oksigen ke jantung dan otak sampai bantuan medis tiba.Menjaga jalan napas korban terbuka dengan mengangkat dagu dan menurunkan dagu.\\nMemberikan obat-obatan yang diberikan oleh dokter untuk serangan jantung seperti nitrogliserin, aspirin, dll.\\nMenjaga korban tetap tenang dan rileks sambil menunggu bantuan medis datang.\\nMembawa korban ke rumah sakit segera setelah bantuan medis tiba.\\n\"\n",
        "  elif \"kejang\" in prompt:\n",
        "    return \"Menjaga jalan napas korban terbuka dengan meletakkan korban pada posisi miring ke samping.\\nMenghindari rangsangan yang dapat meningkatkan kejang, seperti cahaya terang atau suara keras.\\nMemantau waktu kejang dan lama kejang.\\nMemberikan obat-obatan yang diberikan oleh dokter untuk mengontrol kejang.\\nSegera periksakan ke dokter atau ke rumah sakit untuk mendapatkan diagnosis yang tepat dan pengobatan yang sesuai.\\nJika kejang berlangsung lebih dari 5 menit atau jika korban tidak sadar setelah kejang, segera menelepon nomor darurat.\"\n",
        "  elif \"EXIT\" in prompt:\n",
        "    return \"Terimakasih telah menggunakan chatbot kami :D\"\n",
        "  else:\n",
        "    return \"Maaf, saya tidak dapat memberikan panduan pertolongan pertama untuk kondisi tersebut. Sebaiknya segera hubungi tim medis untuk mendapatkan bantuan lebih lanjut.\"\n",
        "\n",
        "\n",
        "print(\"Halo, saya adalah chatbot panduan pertolongan pertama. Apa yang membutuhkan bantuan?\")\n",
        "while True:\n",
        "  prompt = input(\"> \")\n",
        "  response = get_response(prompt)\n",
        "  print(response)\n"
      ]
    },
    {
      "cell_type": "code",
      "execution_count": 3,
      "metadata": {
        "colab": {
          "base_uri": "https://localhost:8080/"
        },
        "id": "G5tO0s3fxQcI",
        "outputId": "3d69cbcc-f12f-44df-ac37-78e89e78a10f"
      },
      "outputs": [
        {
          "output_type": "stream",
          "name": "stdout",
          "text": [
            "Hello!\n",
            "How can I help you?\n",
            "Menelepon nomor darurat (911) segera. Petugas medis akan datang dan memberikan bantuan yang diperlukan.\n",
            "Memberikan CPR (Cardiopulmonary Resuscitation) jika korban tidak sadarkan diri atau tidak dapat bernapas dengan baik. CPR dapat membantu menyediakan oksigen ke jantung dan otak sampai bantuan medis tiba.Menjaga jalan napas korban terbuka dengan mengangkat dagu dan menurunkan dagu.\n",
            "Memberikan obat-obatan yang diberikan oleh dokter untuk serangan jantung seperti nitrogliserin, aspirin, dll.\n",
            "Menjaga korban tetap tenang dan rileks sambil menunggu bantuan medis datang.\n",
            "Membawa korban ke rumah sakit segera setelah bantuan medis tiba.\n",
            "\n"
          ]
        }
      ],
      "source": [
        "# from sklearn.feature_extraction.text import TfidfVectorizer\n",
        "# from sklearn.metrics.pairwise import cosine_similarity\n",
        "# import numpy as np\n",
        "\n",
        "# # Define a list of responses for the chatbot\n",
        "# responses = [\"Hello!\", \"How can I help you?\", \"What's on your mind?\", \"Menelepon nomor darurat (911) segera. Petugas medis akan datang dan memberikan bantuan yang diperlukan.\\nMemberikan CPR (Cardiopulmonary Resuscitation) jika korban tidak sadarkan diri atau tidak dapat bernapas dengan baik. CPR dapat membantu menyediakan oksigen ke jantung dan otak sampai bantuan medis tiba.Menjaga jalan napas korban terbuka dengan mengangkat dagu dan menurunkan dagu.\\nMemberikan obat-obatan yang diberikan oleh dokter untuk serangan jantung seperti nitrogliserin, aspirin, dll.\\nMenjaga korban tetap tenang dan rileks sambil menunggu bantuan medis datang.\\nMembawa korban ke rumah sakit segera setelah bantuan medis tiba.\\n\", \"I'm sorry, I don't understand.\"]\n",
        "\n",
        "# # Define a function to respond to a user's input\n",
        "# def respond(user_input):\n",
        "#     # Convert the user's input to a vector\n",
        "#     user_input = [user_input]\n",
        "#     vectorizer = TfidfVectorizer()\n",
        "#     user_vec = vectorizer.fit_transform(user_input)\n",
        "\n",
        "#     # Calculate the similarity between the user's input and the chatbot's responses\n",
        "#     scores = cosine_similarity(user_vec, vectorizer.transform(responses))\n",
        "\n",
        "#     # Select the response with the highest similarity score\n",
        "#     index = np.argmax(scores)\n",
        "#     return responses[index]\n",
        "\n",
        "# # Test the chatbot\n",
        "# print(respond(\"hello\")) # Output: \"Hello!\"\n",
        "# print(respond(\"What can you do?\")) # Output: \"How can I help you?\"\n",
        "# print(respond(\"serangan jantung\"))"
      ]
    }
  ],
  "metadata": {
    "colab": {
      "provenance": []
    },
    "kernelspec": {
      "display_name": "Python 3",
      "name": "python3"
    },
    "language_info": {
      "name": "python"
    }
  },
  "nbformat": 4,
  "nbformat_minor": 0
}